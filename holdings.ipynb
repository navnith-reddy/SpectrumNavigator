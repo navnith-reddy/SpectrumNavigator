{
 "cells": [
  {
   "cell_type": "markdown",
   "metadata": {},
   "source": [
    "# Spectrum Holding Summary Document\n",
    "\n",
    "Code within notebook tests the shapefile processing to present as human-readable summaries of client number extracts."
   ]
  },
  {
   "cell_type": "code",
   "execution_count": 1,
   "metadata": {},
   "outputs": [],
   "source": [
    "\n",
    "# -------------------- WORKING DOCUMENT SETUP ------------------------\n",
    "import rrl\n",
    "import HCIS\n",
    "import geopandas as gpd\n",
    "import pandas as pd\n",
    "\n",
    "data = rrl.readSpecData()\n",
    "asmg = gpd.read_file('ASMG/asmg.shp')\n",
    "asmg.to_csv('debug.csv')"
   ]
  },
  {
   "cell_type": "code",
   "execution_count": 2,
   "metadata": {},
   "outputs": [
    {
     "data": {
      "text/html": [
       "<div>\n",
       "<style scoped>\n",
       "    .dataframe tbody tr th:only-of-type {\n",
       "        vertical-align: middle;\n",
       "    }\n",
       "\n",
       "    .dataframe tbody tr th {\n",
       "        vertical-align: top;\n",
       "    }\n",
       "\n",
       "    .dataframe thead th {\n",
       "        text-align: right;\n",
       "    }\n",
       "</style>\n",
       "<table border=\"1\" class=\"dataframe\">\n",
       "  <thead>\n",
       "    <tr style=\"text-align: right;\">\n",
       "      <th></th>\n",
       "      <th>LICENCE_NO</th>\n",
       "      <th>CLIENT_NO</th>\n",
       "      <th>LFREQ_START</th>\n",
       "      <th>LWFREQ_END</th>\n",
       "      <th>HIFREQ_START</th>\n",
       "      <th>HIFREQ_END</th>\n",
       "      <th>LW_BW</th>\n",
       "      <th>HI_BW</th>\n",
       "      <th>BANDWIDTH</th>\n",
       "      <th>AREA_CODE</th>\n",
       "      <th>AREA_NAME</th>\n",
       "      <th>HCIS</th>\n",
       "      <th>geometry</th>\n",
       "    </tr>\n",
       "  </thead>\n",
       "  <tbody>\n",
       "    <tr>\n",
       "      <th>0</th>\n",
       "      <td>10143466</td>\n",
       "      <td>1104504</td>\n",
       "      <td>1935000000</td>\n",
       "      <td>1940000000</td>\n",
       "      <td>2.125000e+09</td>\n",
       "      <td>2.130000e+09</td>\n",
       "      <td>5000000</td>\n",
       "      <td>5000000.0</td>\n",
       "      <td>10000000.0</td>\n",
       "      <td>AP_10143466_4114</td>\n",
       "      <td>Perth</td>\n",
       "      <td>BV1I, BV1J, BV1K, BV1L, BV1M, BV1N, BV1O, BV1P...</td>\n",
       "      <td>POLYGON ((115.16816 -32.83215, 115.08483 -32.8...</td>\n",
       "    </tr>\n",
       "    <tr>\n",
       "      <th>1</th>\n",
       "      <td>10143466</td>\n",
       "      <td>1104504</td>\n",
       "      <td>1965000000</td>\n",
       "      <td>1975000000</td>\n",
       "      <td>2.155000e+09</td>\n",
       "      <td>2.165000e+09</td>\n",
       "      <td>10000000</td>\n",
       "      <td>10000000.0</td>\n",
       "      <td>20000000.0</td>\n",
       "      <td>AP_10143466_4124</td>\n",
       "      <td>Regional Western Australia</td>\n",
       "      <td>AU2, AU3, AU6, AU9, AV9, AW3, BU1, BU2, BU4, B...</td>\n",
       "      <td>POLYGON ((114.83486 -34.99884, 114.75153 -34.9...</td>\n",
       "    </tr>\n",
       "  </tbody>\n",
       "</table>\n",
       "</div>"
      ],
      "text/plain": [
       "   LICENCE_NO  CLIENT_NO  LFREQ_START  LWFREQ_END  HIFREQ_START    HIFREQ_END  \\\n",
       "0    10143466    1104504   1935000000  1940000000  2.125000e+09  2.130000e+09   \n",
       "1    10143466    1104504   1965000000  1975000000  2.155000e+09  2.165000e+09   \n",
       "\n",
       "      LW_BW       HI_BW   BANDWIDTH         AREA_CODE  \\\n",
       "0   5000000   5000000.0  10000000.0  AP_10143466_4114   \n",
       "1  10000000  10000000.0  20000000.0  AP_10143466_4124   \n",
       "\n",
       "                    AREA_NAME  \\\n",
       "0                       Perth   \n",
       "1  Regional Western Australia   \n",
       "\n",
       "                                                HCIS  \\\n",
       "0  BV1I, BV1J, BV1K, BV1L, BV1M, BV1N, BV1O, BV1P...   \n",
       "1  AU2, AU3, AU6, AU9, AV9, AW3, BU1, BU2, BU4, B...   \n",
       "\n",
       "                                            geometry  \n",
       "0  POLYGON ((115.16816 -32.83215, 115.08483 -32.8...  \n",
       "1  POLYGON ((114.83486 -34.99884, 114.75153 -34.9...  "
      ]
     },
     "execution_count": 2,
     "metadata": {},
     "output_type": "execute_result"
    }
   ],
   "source": [
    "# -------------------- TEST EXTRACT ------------------------\n",
    "clientData = rrl.clientSearch(data, \"1104504,20009217\")\n",
    "clientData = clientData.iloc[[6,7]]\n",
    "test = rrl.buildgdf(clientData, asmg)\n",
    "test\n"
   ]
  },
  {
   "cell_type": "code",
   "execution_count": 3,
   "metadata": {},
   "outputs": [
    {
     "data": {
      "image/png": "[encoded data removed]",
      "text/plain": [
       "<Figure size 432x288 with 1 Axes>"
      ]
     },
     "metadata": {
      "needs_background": "light"
     },
     "output_type": "display_data"
    }
   ],
   "source": [
    "import contextily as cx\n",
    "from matplotlib import pyplot as plt\n",
    "\n",
    "world = gpd.read_file(gpd.datasets.get_path('naturalearth_lowres'))\n",
    "ax = world[world.name == 'Australia'].plot(color='white', edgecolor='black')\n",
    "fig = test.plot(ax=ax, column='AREA_NAME', cmap='tab20', categorical=True, legend=True)"
   ]
  },
  {
   "cell_type": "code",
   "execution_count": 4,
   "metadata": {},
   "outputs": [
    {
     "name": "stderr",
     "output_type": "stream",
     "text": [
      "c:\\Users\\navni\\AppData\\Local\\Programs\\Python\\Python310\\lib\\site-packages\\geopandas\\geodataframe.py:2352: UserWarning: `keep_geom_type=True` in overlay resulted in 2 dropped geometries of different geometry types than df1 has. Set `keep_geom_type=False` to retain all geometries\n",
      "  return geopandas.overlay(\n"
     ]
    },
    {
     "data": {
      "text/plain": [
       "<AxesSubplot:>"
      ]
     },
     "execution_count": 4,
     "metadata": {},
     "output_type": "execute_result"
    },
    {
     "data": {
      "image/png": "[encoded data removed]",
      "text/plain": [
       "<Figure size 432x288 with 1 Axes>"
      ]
     },
     "metadata": {
      "needs_background": "light"
     },
     "output_type": "display_data"
    }
   ],
   "source": [
    "test = (test.iloc[[0]]).overlay(test.iloc[[1]], how='intersection')\n",
    "test.plot(color=\"b\")\n"
   ]
  },
  {
   "cell_type": "markdown",
   "metadata": {},
   "source": [
    "## Geometric Approach to Unique Area Identification\n",
    "\n",
    "Use geometric operations to create "
   ]
  },
  {
   "cell_type": "markdown",
   "metadata": {},
   "source": [
    "## Unique Area Function\n",
    "\n",
    "The most challenging part of generating a holding summary is being able to remove overlapping HCIS cells from each area description entry. Removing overlapping HCIS cells is necessary to produce a two dimensional, human readable dataset."
   ]
  },
  {
   "cell_type": "code",
   "execution_count": null,
   "metadata": {},
   "outputs": [],
   "source": [
    "\n",
    "def getUniqueAreas(gdf):\n",
    "    \"\"\"Given a geodataframe, return a list of unique HCIS descriptions\n",
    "\n",
    "    Args:\n",
    "        gdf (GeoDataFrame): Client data geodataframe\n",
    "\n",
    "    Returns:\n",
    "        uniqueArea s: List of HCIS descriptions (list)\n",
    "    \"\"\"\n",
    "\n",
    "    # Function Setup\n",
    "    areaStrings = gdf['AREA_DESCRIPTION'].tolist()\n",
    "    uniqueAreas = []\n",
    "\n",
    "    for string in areaStrings:\n",
    "        uniqueAreas.append(list(string.split(', ')))\n",
    "\n",
    "    newAreas = []\n",
    "    i = 0\n",
    "    \n",
    "    # Loop through every hcis for comparison\n",
    "    for hcis1 in uniqueAreas:\n",
    "        \n",
    "        j = 0\n",
    "        \n",
    "        for hcis2 in uniqueAreas:\n",
    "            \n",
    "            # Ensure comparison of different HCIS cells\n",
    "            if i != j:\n",
    "                \n",
    "                union = set(hcis1).intersection(set(hcis2))\n",
    "                \n",
    "                # If union is 0, there aren't any matches\n",
    "                if len(union) == 0:\n",
    "                    j = j + 1\n",
    "                    continue\n",
    "                \n",
    "                # Duplicate HCIS\n",
    "                elif set(hcis1) == union:\n",
    "                    uniqueAreas.pop(j)\n",
    "                    \n",
    "                else:\n",
    "                    newAreas.append(list(union))\n",
    "                    uniqueAreas[i] = list(set(hcis1) - union)\n",
    "                    uniqueAreas[j] = list(set(hcis2) - union)\n",
    "                    \n",
    "            j = j + 1\n",
    "            \n",
    "        i = i + 1\n",
    "\n",
    "    uniqueAreas.append(newAreas)\n",
    "    return uniqueAreas\n",
    "\n",
    "uniqueAreas = getUniqueAreas(shp)\n",
    "#print(uniqueAreas)"
   ]
  },
  {
   "cell_type": "code",
   "execution_count": null,
   "metadata": {},
   "outputs": [],
   "source": [
    "# Loop testing\n",
    "\n",
    "newAreas = []\n",
    "i = 0\n",
    "# Loop through every hcis for comparison\n",
    "for hcis1 in uniqueAreas:\n",
    "    \n",
    "    j = 0\n",
    "    \n",
    "    for hcis2 in uniqueAreas:\n",
    "        \n",
    "        # Ensure comparison of different HCIS cells\n",
    "        if i != j:\n",
    "            \n",
    "            union = set(hcis1).intersection(set(hcis2))\n",
    "            \n",
    "            # If union is 0, there aren't any matches\n",
    "            if len(union) == 0:\n",
    "                j = j + 1\n",
    "                continue\n",
    "            \n",
    "            # Duplicate HCIS\n",
    "            elif set(hcis1) == union:\n",
    "                uniqueAreas.pop(j)\n",
    "                \n",
    "            else:\n",
    "                newAreas.append(list(union))\n",
    "                uniqueAreas[i] = list(set(hcis1) - union)\n",
    "                uniqueAreas[j] = list(set(hcis2) - union)\n",
    "                \n",
    "        j = j + 1\n",
    "        \n",
    "    i = i + 1\n",
    "\n",
    "uniqueAreas.append(newAreas)\n",
    "\n",
    "uniqueAreas = getUniqueAreas(shp)\n",
    "print(unique)"
   ]
  },
  {
   "cell_type": "markdown",
   "metadata": {},
   "source": [
    "## Spectrum Holdings Builder\n",
    "\n",
    "Using unique area descriptions and client number extract, a new dataset must be constructed summarising holdings for a given unique area description."
   ]
  },
  {
   "cell_type": "code",
   "execution_count": null,
   "metadata": {},
   "outputs": [],
   "source": [
    "# build gdf from unique areas\n",
    "bands = set(specLicence['LICENCE_CATEGORY_NAME'])\n",
    "bands\n",
    "\n",
    "holdings = pd.DataFrame({\n",
    "    \"HCIS\" : [],\n",
    "    'Total BW' : [],\n",
    "    '1800 MHz Band' : [],\n",
    "    '2 GHz Band' : [],\n",
    "    '2.3 GHz Band' : [],\n",
    "    '2.5 GHz Band' : [],\n",
    "    '2.5 GHz Mid Band Gap' : [],\n",
    "    '20 GHz Defence Band' : [],\n",
    "    '26 GHz Band' : [],\n",
    "    '3.4 GHz Band' : [],\n",
    "    '30 GHz Defence Band' : [],\n",
    "    '700 MHz Band' : [],\n",
    "    '800 MHz Band' : [],\n",
    "    'AWL - FSS Only' : [],\n",
    "    'AWL - Standard' : []\n",
    "})\n",
    "holdings"
   ]
  },
  {
   "cell_type": "code",
   "execution_count": null,
   "metadata": {},
   "outputs": [],
   "source": [
    "# ------------------------------------------------------\n",
    "# -------- Build holdings helper functions -------------\n",
    "# ------------------------------------------------------\n",
    "\n",
    "def intersection (HCIS, row):\n",
    "    \"\"\"Returns list of HCIS that is in both input HCIS list and input row.\n",
    "\n",
    "    Args:\n",
    "        HCIS (List): List of HCIS identifiers.\n",
    "        row (Dataframe Row): Row from a client dataframe or shapefile.\n",
    "\n",
    "    Returns:\n",
    "        isin (List): List of HCIS identifiers in both inputs.\n",
    "    \"\"\"\n",
    "    temp = set(row['AREA_DESCRIPTION'])\n",
    "    isin = [value for value in HCIS if value in temp]\n",
    "    return isin\n",
    "\n",
    "def removeHCIS (AreaDescription, uaHCIS):\n",
    "    newHCIS = []\n",
    "    return newHCIS\n",
    "\n",
    "def updateHoldings (row, holdings, uaHCIS):\n",
    "    return\n",
    "\n",
    "HCIS = uniqueAreas[-1]\n",
    "print(HCIS)"
   ]
  },
  {
   "cell_type": "code",
   "execution_count": null,
   "metadata": {},
   "outputs": [],
   "source": [
    "# ------------------------------------------------------\n",
    "# -------- Build holdings primary function -------------\n",
    "# ------------------------------------------------------\n",
    "\n",
    "def buildHoldings (uniqueAreas, shp):\n",
    "    \"\"\"Given a list of unique area defined by HCIS sequences \n",
    "    and a geodataframe, generate a holdings summary.\n",
    "\n",
    "    Args:\n",
    "        uniqueAreas (List of Lists): List containing unique HCIS sequences\n",
    "        shp (Geodataframe): Client Data geodataframe\n",
    "\n",
    "    Returns:\n",
    "        holdings: Holdings summary geodataframe\n",
    "    \"\"\"\n",
    "    \n",
    "    # Create empty dataset\n",
    "    holdings = pd.DataFrame({\n",
    "    \"HCIS\" : [],\n",
    "    'Total BW' : [],\n",
    "    '1800 MHz Band' : [],\n",
    "    '2 GHz Band' : [],\n",
    "    '2.3 GHz Band' : [],\n",
    "    '2.5 GHz Band' : [],\n",
    "    '2.5 GHz Mid Band Gap' : [],\n",
    "    '20 GHz Defence Band' : [],\n",
    "    '26 GHz Band' : [],\n",
    "    '3.4 GHz Band' : [],\n",
    "    '30 GHz Defence Band' : [],\n",
    "    '700 MHz Band' : [],\n",
    "    '800 MHz Band' : [],\n",
    "    'AWL - FSS Only' : [],\n",
    "    'AWL - Standard' : []\n",
    "    })\n",
    "    \n",
    "    for uaHCIS in uniqueAreas:\n",
    "        \n",
    "        for index, row in shp.iterrows():\n",
    "            \n",
    "            isin = intersection(uaHCIS, row)\n",
    "            \n",
    "            # If uaHCIS is in entry[HCIS]\n",
    "            if len(isin) != 0:\n",
    "                \n",
    "                shp.at[index]['LICENCE_AREA_DESCRIPTION'] = removeHCIS(shp.iloc[index]['LICENCE_AREA_LOCATION'], uaHCIS)\n",
    "                \n",
    "                updateHoldings = (row, holdings, uaHCIS)\n",
    "            \n",
    "            else:\n",
    "                \n",
    "                continue\n",
    "            \n",
    "    return holdings"
   ]
  }
 ],
 "metadata": {
  "kernelspec": {
   "display_name": "Python 3.10.2 64-bit",
   "language": "python",
   "name": "python3"
  },
  "language_info": {
   "codemirror_mode": {
    "name": "ipython",
    "version": 3
   },
   "file_extension": ".py",
   "mimetype": "text/x-python",
   "name": "python",
   "nbconvert_exporter": "python",
   "pygments_lexer": "ipython3",
   "version": "3.10.2"
  },
  "orig_nbformat": 4,
  "vscode": {
   "interpreter": {
    "hash": "f3b1cddd90e041739cc508b511777643b291f5d1b3dc05751cb59eb7093c1b3d"
   }
  }
 },
 "nbformat": 4,
 "nbformat_minor": 2
}
